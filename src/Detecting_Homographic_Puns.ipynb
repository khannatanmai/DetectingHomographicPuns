{
 "cells": [
  {
   "cell_type": "markdown",
   "metadata": {},
   "source": [
    "## Imports and Initialisations"
   ]
  },
  {
   "cell_type": "code",
   "execution_count": 1,
   "metadata": {},
   "outputs": [
    {
     "name": "stderr",
     "output_type": "stream",
     "text": [
      "[nltk_data] Downloading package stopwords to\n",
      "[nltk_data]     /Users/khannatanmai/nltk_data...\n",
      "[nltk_data]   Package stopwords is already up-to-date!\n"
     ]
    }
   ],
   "source": [
    "import nltk\n",
    "nltk.download('stopwords')\n",
    "\n",
    "from nltk.corpus import brown, stopwords\n",
    "import xml.etree.ElementTree as ET\n",
    "import string\n",
    "\n",
    "sents = brown.sents()\n",
    "stopwords = set(stopwords.words('english'))\n",
    "tree = ET.parse('../data/test/subtask1-homographic-test.xml')\n",
    "puncts = string.punctuation"
   ]
  },
  {
   "cell_type": "code",
   "execution_count": 2,
   "metadata": {},
   "outputs": [],
   "source": [
    "F = open(\"../data/test/subtask1-homographic-test.gold\")\n",
    "scores = list()\n",
    "for item in F.readlines():\n",
    "    ans = item.split()[1]\n",
    "    scores.append(ans)"
   ]
  },
  {
   "cell_type": "code",
   "execution_count": 3,
   "metadata": {},
   "outputs": [
    {
     "name": "stderr",
     "output_type": "stream",
     "text": [
      "/Library/Frameworks/Python.framework/Versions/3.7/lib/python3.7/site-packages/ipykernel_launcher.py:3: DeprecationWarning: This method will be removed in future versions.  Use 'list(elem)' or iteration over elem instead.\n",
      "  This is separate from the ipykernel package so we can avoid doing imports until\n",
      "/Library/Frameworks/Python.framework/Versions/3.7/lib/python3.7/site-packages/ipykernel_launcher.py:5: DeprecationWarning: This method will be removed in future versions.  Use 'list(elem)' or iteration over elem instead.\n",
      "  \"\"\"\n"
     ]
    }
   ],
   "source": [
    "test_sents = list()\n",
    "root = tree.getroot()\n",
    "for text in root.getchildren():\n",
    "    sent = list()\n",
    "    for word in text.getchildren():\n",
    "        sent.append(word.text)\n",
    "    test_sents.append(sent)"
   ]
  },
  {
   "cell_type": "code",
   "execution_count": 4,
   "metadata": {},
   "outputs": [],
   "source": [
    "def filter_sent(sent):\n",
    "    sent = [w for w in sent if w.lower() not in stopwords]\n",
    "    sent = [w for w in sent if w[0] not in puncts]\n",
    "    return sent\n",
    "\n",
    "def make_ordered_pairs(sent):\n",
    "    ans = list()\n",
    "    for index, word in enumerate(sent):\n",
    "        if index == len(sent) - 1:\n",
    "            break\n",
    "        temp = index + 1\n",
    "        while(1):\n",
    "            ans.append((sent[index], sent[temp]))\n",
    "            if temp == len(sent) - 1:\n",
    "                break\n",
    "            temp += 1\n",
    "    return ans"
   ]
  },
  {
   "cell_type": "code",
   "execution_count": 5,
   "metadata": {},
   "outputs": [
    {
     "name": "stdout",
     "output_type": "stream",
     "text": [
      "[('never', 230), ('die', 201), ('OLD', 178), ('get', 101), ('good', 66), ('always', 62), ('name', 57), ('said', 57), ('Tom', 56), ('got', 51)]\n",
      "[(('never', 'die'), 194), (('OLD', 'die'), 178), (('OLD', 'never'), 177), (('never', 'lose'), 40), (('die', 'lose'), 40), (('OLD', 'lose'), 38), (('never', 'get'), 36), (('die', 'get'), 34), (('OLD', 'get'), 33), (('Doctor', 'Next'), 19)]\n"
     ]
    }
   ],
   "source": [
    "from collections import Counter\n",
    "\n",
    "words = Counter([])\n",
    "bigrams = Counter([])\n",
    "\n",
    "for sent in test_sents:\n",
    "    sent = filter_sent(sent)\n",
    "    pairs = make_ordered_pairs(sent)\n",
    "    words.update(sent)\n",
    "    bigrams.update(pairs)\n",
    "    \n",
    "print(words.most_common(10))\n",
    "print(bigrams.most_common(10))"
   ]
  },
  {
   "cell_type": "markdown",
   "metadata": {},
   "source": [
    "## Calculating PMI\n",
    "\n",
    "The PMI (Pointwise Mututal Information) is being calculated as:\n",
    "```\n",
    "PMI(w1, w2) = log (P(w1, w2) / (P(w1) * P(w2)))\n",
    "```"
   ]
  },
  {
   "cell_type": "code",
   "execution_count": 6,
   "metadata": {},
   "outputs": [],
   "source": [
    "import math\n",
    "\n",
    "def PMI(tup):\n",
    "    try:\n",
    "        val = bigrams[tup] / (words[tup[0]] * words[tup[1]])\n",
    "        return math.log(val)\n",
    "    except:\n",
    "        return 0"
   ]
  },
  {
   "cell_type": "markdown",
   "metadata": {},
   "source": [
    "## Calculating Threshold\n",
    "\n",
    "The threshold for the difference in the highest PMI and is calculated using the Interquartile Range (IQR). IQR is preferred because it is able to eliminate outliers."
   ]
  },
  {
   "cell_type": "code",
   "execution_count": 7,
   "metadata": {},
   "outputs": [
    {
     "name": "stdout",
     "output_type": "stream",
     "text": [
      "1.7107470400723912\n"
     ]
    }
   ],
   "source": [
    "import numpy as np\n",
    "import scipy.stats as sp\n",
    "\n",
    "IQRs = list()\n",
    "for sent in test_sents:\n",
    "    sent = filter_sent(sent)\n",
    "    pairs = make_ordered_pairs(sent)\n",
    "    PMIs = sorted([PMI(_) for _ in pairs])\n",
    "    l = len(PMIs)\n",
    "    if l > 0:\n",
    "        IQRs.append(sp.iqr(PMIs))\n",
    "\n",
    "IQRs = sorted(IQRs)\n",
    "threshold = np.median(IQRs)\n",
    "print(threshold)"
   ]
  },
  {
   "cell_type": "markdown",
   "metadata": {},
   "source": [
    "## Testing Sentences for Pun\n",
    "\n",
    "- Converting each sentence into tokens\n",
    "- Stopword Removal\n",
    "- Generating word pairs preserving word order\n",
    "- Calculating PMI score and checking whether above threshold\n",
    "- Checking whether any word from pair has multiple sense"
   ]
  },
  {
   "cell_type": "code",
   "execution_count": 8,
   "metadata": {},
   "outputs": [
    {
     "name": "stdout",
     "output_type": "stream",
     "text": [
      "2250\n"
     ]
    }
   ],
   "source": [
    "from nltk.corpus import wordnet as wn\n",
    "\n",
    "def has_multiple_sense(word):\n",
    "    syns = Counter([_.name().split('.')[0] for _ in wn.synsets(word)])\n",
    "    return syns[word] > 1\n",
    "\n",
    "test_scores = list()\n",
    "for i, sent in enumerate(test_sents):\n",
    "    sent_ = sent\n",
    "    sent = filter_sent(sent)\n",
    "    pairs = make_ordered_pairs(sent)\n",
    "    PMIs = sorted([(_, PMI(_)) for _ in pairs], key=lambda k : k[1])\n",
    "    l = len(PMIs)\n",
    "    if l > 0:\n",
    "        if sp.iqr([v for k, v in PMIs]) > threshold:\n",
    "            if has_multiple_sense(PMIs[-1][0][0]) or has_multiple_sense(PMIs[-1][0][1]):\n",
    "                test_scores.append('1')\n",
    "            else:\n",
    "                test_scores.append('0')\n",
    "        else:\n",
    "            test_scores.append('0')\n",
    "    else:\n",
    "        test_scores.append('0')\n",
    "        \n",
    "print(len(test_scores))"
   ]
  },
  {
   "cell_type": "markdown",
   "metadata": {},
   "source": [
    "## Calculating Precision, Recall, F1-Score\n",
    "\n",
    "```\n",
    "Precision = TP/TP+FP\n",
    "Recall = TP/TP+FN\n",
    "F1-Score = 2*(Recall*Precision)/(Recall+Precision)\n",
    "```"
   ]
  },
  {
   "cell_type": "code",
   "execution_count": 9,
   "metadata": {},
   "outputs": [
    {
     "name": "stdout",
     "output_type": "stream",
     "text": [
      "precision 0.8181818181818182\n",
      "recall 0.35283136278780336\n",
      "F1-score 0.4930434782608695\n"
     ]
    }
   ],
   "source": [
    "t_scores = Counter([(scores[i], test_scores[i]) for i in range(len(scores))])\n",
    "\n",
    "TP = t_scores[('1', '1')]\n",
    "FP = t_scores[('0', '1')]\n",
    "FN = t_scores[('1', '0')]\n",
    "\n",
    "pre = TP / (TP + FP)\n",
    "re = TP / (TP + FN)\n",
    "f1 = 2 * (re * pre) / (re + pre)\n",
    "\n",
    "print('precision', pre)\n",
    "print('recall', re)\n",
    "print('F1-score', f1)"
   ]
  },
  {
   "cell_type": "markdown",
   "metadata": {},
   "source": [
    "## Manually Checking Failed Cases"
   ]
  },
  {
   "cell_type": "code",
   "execution_count": 17,
   "metadata": {},
   "outputs": [],
   "source": [
    "fail_cases = []\n",
    "\n",
    "for i in range(len(scores)):\n",
    "    if(scores[i] == '1' and test_scores[i] == '0'):\n",
    "        fail_cases.append(i)"
   ]
  },
  {
   "cell_type": "code",
   "execution_count": 1,
   "metadata": {},
   "outputs": [],
   "source": [
    "#fail_cases"
   ]
  },
  {
   "cell_type": "code",
   "execution_count": 25,
   "metadata": {},
   "outputs": [
    {
     "name": "stdout",
     "output_type": "stream",
     "text": [
      "They hid from the gunman in a sauna where they could sweat it out . \n",
      "Wal - Mart isn ' t the only saving place ! \n",
      "Can honeybee abuse lead to a sting operation ? \n",
      "A ditch digger was entrenched in his career . \n",
      "Did you hear about the new pinata ? It ' s a huge hit . \n",
      "She was suspected of stealing a brooch but they couldn ' t pin it on her . \n",
      "' ' There ' s room for one more , ' ' Tom admitted . \n",
      "They threw a party for the inventor of the toaster . And he was toasted . \n",
      "If you ' re a gardener you might call yourself a ' plant manager ' . \n",
      "My advanced geometry class is full of squares . \n"
     ]
    }
   ],
   "source": [
    "for i in fail_cases[0:10]:\n",
    "    for j in test_sents[i]:\n",
    "        print(j, end = ' ')\n",
    "    print('')"
   ]
  },
  {
   "cell_type": "code",
   "execution_count": null,
   "metadata": {},
   "outputs": [],
   "source": []
  }
 ],
 "metadata": {
  "kernelspec": {
   "display_name": "Python 3",
   "language": "python",
   "name": "python3"
  },
  "language_info": {
   "codemirror_mode": {
    "name": "ipython",
    "version": 3
   },
   "file_extension": ".py",
   "mimetype": "text/x-python",
   "name": "python",
   "nbconvert_exporter": "python",
   "pygments_lexer": "ipython3",
   "version": "3.7.1"
  }
 },
 "nbformat": 4,
 "nbformat_minor": 2
}
